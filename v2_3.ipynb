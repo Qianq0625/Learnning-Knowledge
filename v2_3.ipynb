{
  "nbformat": 4,
  "nbformat_minor": 0,
  "metadata": {
    "colab": {
      "provenance": [],
      "authorship_tag": "ABX9TyOwhggmaE7zKF7kWoZt/eLv",
      "include_colab_link": true
    },
    "kernelspec": {
      "name": "python3",
      "display_name": "Python 3"
    },
    "language_info": {
      "name": "python"
    }
  },
  "cells": [
    {
      "cell_type": "markdown",
      "metadata": {
        "id": "view-in-github",
        "colab_type": "text"
      },
      "source": [
        "<a href=\"https://colab.research.google.com/github/Qianq0625/Learnning-Knowledge/blob/main/v2_3.ipynb\" target=\"_parent\"><img src=\"https://colab.research.google.com/assets/colab-badge.svg\" alt=\"Open In Colab\"/></a>"
      ]
    },
    {
      "cell_type": "code",
      "execution_count": 1,
      "metadata": {
        "colab": {
          "base_uri": "https://localhost:8080/",
          "height": 342
        },
        "id": "ZtBqXHr1gXJe",
        "outputId": "d1212a1f-db38-470b-8e5c-4969ed60cfa1"
      },
      "outputs": [
        {
          "output_type": "error",
          "ename": "ModuleNotFoundError",
          "evalue": "ignored",
          "traceback": [
            "\u001b[0;31m---------------------------------------------------------------------------\u001b[0m",
            "\u001b[0;31mModuleNotFoundError\u001b[0m                       Traceback (most recent call last)",
            "\u001b[0;32m<ipython-input-1-f2767c80a2e6>\u001b[0m in \u001b[0;36m<module>\u001b[0;34m\u001b[0m\n\u001b[1;32m      2\u001b[0m \u001b[0;32mimport\u001b[0m \u001b[0mrandom\u001b[0m\u001b[0;34m\u001b[0m\u001b[0;34m\u001b[0m\u001b[0m\n\u001b[1;32m      3\u001b[0m \u001b[0;32mimport\u001b[0m \u001b[0mtorch\u001b[0m\u001b[0;34m\u001b[0m\u001b[0;34m\u001b[0m\u001b[0m\n\u001b[0;32m----> 4\u001b[0;31m \u001b[0;32mfrom\u001b[0m \u001b[0md21\u001b[0m \u001b[0;32mimport\u001b[0m \u001b[0mtorch\u001b[0m \u001b[0;32mas\u001b[0m \u001b[0md21\u001b[0m\u001b[0;34m\u001b[0m\u001b[0;34m\u001b[0m\u001b[0m\n\u001b[0m",
            "\u001b[0;31mModuleNotFoundError\u001b[0m: No module named 'd21'",
            "",
            "\u001b[0;31m---------------------------------------------------------------------------\u001b[0;32m\nNOTE: If your import is failing due to a missing package, you can\nmanually install dependencies using either !pip or !apt.\n\nTo view examples of installing some common dependencies, click the\n\"Open Examples\" button below.\n\u001b[0;31m---------------------------------------------------------------------------\u001b[0m\n"
          ],
          "errorDetails": {
            "actions": [
              {
                "action": "open_url",
                "actionText": "Open Examples",
                "url": "/notebooks/snippets/importing_libraries.ipynb"
              }
            ]
          }
        }
      ],
      "source": [
        "%matplotlib inline\n",
        "import random\n",
        "import torch\n",
        "#from d21 import torch as d21"
      ]
    },
    {
      "cell_type": "code",
      "source": [
        "# create dataset by yourself\n",
        "\n",
        "import matplotlib.pyplot as plt\n",
        "\n",
        "def synthetic_data(w,b,num_examples):\n",
        "  x = torch.normal(0,1,(num_examples,len(w)))\n",
        "  # torch.normal(mean, std, size, generator=None, out=None) → Tensor\n",
        "  # size = num_examples * len(w)\n",
        "  print(x.shape)\n",
        "  y = torch.matmul(x,w)+b\n",
        "  # torch.matmul(input, other, size, out=None) → Tensor\n",
        "  # size = x*w\n",
        "  print(len(x*w))\n",
        "  print(y.shape)\n",
        "  y += torch.normal(0, 0.01, y.shape) # create noise and add with y\n",
        "  #print(y.reshape((-1,1)))\n",
        "  return x,y.reshape((-1,1))\n",
        "\n",
        "true_w = torch.tensor([2,-3.4])\n",
        "print(true_w)\n",
        "true_b = 4.2\n",
        "features, labels = synthetic_data(true_w,true_b,1000)\n",
        "\n",
        "print('feature:', features[0], '\\nlabel\"', labels[0])\n",
        "\n",
        "\n",
        "\n",
        "plt.scatter(features[:,1].numpy(), labels.numpy(), 1)\n",
        "#sometimes need add detach()\n",
        "#plt.scatter(features[:,1].detach().numpy(), labels.detach().numpy(), 1)"
      ],
      "metadata": {
        "colab": {
          "base_uri": "https://localhost:8080/",
          "height": 386
        },
        "id": "Waz-gmcPgxhZ",
        "outputId": "7210a15a-fd4f-433d-c939-fd93fe707d81"
      },
      "execution_count": 53,
      "outputs": [
        {
          "output_type": "stream",
          "name": "stdout",
          "text": [
            "tensor([ 2.0000, -3.4000])\n",
            "torch.Size([1000, 2])\n",
            "1000\n",
            "torch.Size([1000])\n",
            "feature: tensor([0.2197, 1.0779]) \n",
            "label\" tensor([0.9742])\n"
          ]
        },
        {
          "output_type": "execute_result",
          "data": {
            "text/plain": [
              "<matplotlib.collections.PathCollection at 0x7ff3fef56370>"
            ]
          },
          "metadata": {},
          "execution_count": 53
        },
        {
          "output_type": "display_data",
          "data": {
            "text/plain": [
              "<Figure size 432x288 with 1 Axes>"
            ],
            "image/png": "[encoded data removed]"
          },
          "metadata": {
            "needs_background": "light"
          }
        }
      ]
    },
    {
      "cell_type": "code",
      "source": [
        "##generator mechanism\n",
        "\n",
        "import torch\n",
        "\n",
        "# Create a generator\n",
        "generator = torch.Generator()\n",
        "\n",
        "# Use the generator to generate random numbers from a normal distribution\n",
        "mean = 0\n",
        "std = 1\n",
        "rand_numbers = torch.normal(mean, std, (5, 5), generator=generator)\n",
        "\n",
        "#By specifying a generator, you can control the randomness of the generated numbers, \n",
        "#and you can also ensure reproducibility of the results by using the same generator across multiple runs.\n",
        "print(rand_numbers)\n"
      ],
      "metadata": {
        "colab": {
          "base_uri": "https://localhost:8080/"
        },
        "id": "WqaDW8NNsFG2",
        "outputId": "18160e6c-08ec-4bf9-d906-50b8b4be32a5"
      },
      "execution_count": 35,
      "outputs": [
        {
          "output_type": "stream",
          "name": "stdout",
          "text": [
            "tensor([[-0.1737, -1.8225,  0.7792, -1.0139,  0.8835],\n",
            "        [ 0.6286, -0.2533, -2.6560, -0.7693,  1.0534],\n",
            "        [ 0.2993,  1.3773, -2.0825, -1.3534,  0.5211],\n",
            "        [-1.9463, -0.0253,  0.3262,  0.3573,  1.0512],\n",
            "        [ 1.4175,  0.4202,  0.5482,  0.3360,  2.0879]])\n"
          ]
        }
      ]
    }
  ]
}