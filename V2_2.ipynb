{
  "nbformat": 4,
  "nbformat_minor": 0,
  "metadata": {
    "colab": {
      "provenance": [],
      "authorship_tag": "ABX9TyNe1BhwVJhICqsS3t3nvGTM",
      "include_colab_link": true
    },
    "kernelspec": {
      "name": "python3",
      "display_name": "Python 3"
    },
    "language_info": {
      "name": "python"
    }
  },
  "cells": [
    {
      "cell_type": "markdown",
      "metadata": {
        "id": "view-in-github",
        "colab_type": "text"
      },
      "source": [
        "<a href=\"https://colab.research.google.com/github/Qianq0625/Learnning-Knowledge/blob/main/V2_2.ipynb\" target=\"_parent\"><img src=\"https://colab.research.google.com/assets/colab-badge.svg\" alt=\"Open In Colab\"/></a>"
      ]
    },
    {
      "cell_type": "code",
      "execution_count": 2,
      "metadata": {
        "colab": {
          "base_uri": "https://localhost:8080/"
        },
        "id": "i-aA1g-t5Lj7",
        "outputId": "55c19103-e04b-4e5b-9d4a-5e0ad2634525"
      },
      "outputs": [
        {
          "output_type": "stream",
          "name": "stdout",
          "text": [
            "None\n"
          ]
        }
      ],
      "source": [
        "import torch\n",
        "\n",
        "x = torch.arange(4.0)\n",
        "x\n",
        "\n",
        "#save gradiants\n",
        "x.requires_grad_(True)\n",
        "x.grad\n",
        "\n",
        "print(x.grad)"
      ]
    },
    {
      "cell_type": "code",
      "source": [
        "x = torch.arange(4.0,requires_grad=True)\n",
        "print(x.grad)"
      ],
      "metadata": {
        "colab": {
          "base_uri": "https://localhost:8080/"
        },
        "id": "F1il_bJC55Bx",
        "outputId": "f7c87388-0773-4b2c-ec0f-9484bab0daa2"
      },
      "execution_count": 7,
      "outputs": [
        {
          "output_type": "stream",
          "name": "stdout",
          "text": [
            "None\n"
          ]
        }
      ]
    },
    {
      "cell_type": "code",
      "source": [
        "y = 2 * torch.dot(x,x)  #dot product\n",
        "y"
      ],
      "metadata": {
        "colab": {
          "base_uri": "https://localhost:8080/"
        },
        "id": "hBxVUYZL6GjH",
        "outputId": "6a96b601-8b85-4c42-efa9-706b74093d33"
      },
      "execution_count": 8,
      "outputs": [
        {
          "output_type": "execute_result",
          "data": {
            "text/plain": [
              "tensor(28., grad_fn=<MulBackward0>)"
            ]
          },
          "metadata": {},
          "execution_count": 8
        }
      ]
    },
    {
      "cell_type": "code",
      "source": [
        "#x.grad.zero_()\n",
        "y.backward()\n",
        "x.grad"
      ],
      "metadata": {
        "colab": {
          "base_uri": "https://localhost:8080/"
        },
        "id": "5i48AjdjEFNn",
        "outputId": "f928887b-cd7c-4c5d-9207-ba37d3d48ad0"
      },
      "execution_count": 10,
      "outputs": [
        {
          "output_type": "execute_result",
          "data": {
            "text/plain": [
              "tensor([ 0.,  4.,  8., 12.])"
            ]
          },
          "metadata": {},
          "execution_count": 10
        }
      ]
    },
    {
      "cell_type": "code",
      "source": [
        "x.grad == 4 * x"
      ],
      "metadata": {
        "colab": {
          "base_uri": "https://localhost:8080/"
        },
        "id": "yBzLneNcVcl6",
        "outputId": "6a72f3ea-54c7-4205-d6e1-b147b4b3ffb2"
      },
      "execution_count": 76,
      "outputs": [
        {
          "output_type": "execute_result",
          "data": {
            "text/plain": [
              "tensor([True, True, True, True])"
            ]
          },
          "metadata": {},
          "execution_count": 76
        }
      ]
    },
    {
      "cell_type": "code",
      "source": [
        "x.grad.zero_() # pytorch will accumulate gradients, so we need to clear the previous values\n",
        "x #0,1,2,3\n",
        "y = x.sum() #!Decisive!\n",
        "y #6\n",
        "\n",
        "y.backward()\n",
        "x.grad"
      ],
      "metadata": {
        "colab": {
          "base_uri": "https://localhost:8080/"
        },
        "id": "3-e1Bq5uV-8P",
        "outputId": "2c07567f-e5c7-4542-8214-0b5c70ca3e2c"
      },
      "execution_count": 80,
      "outputs": [
        {
          "output_type": "execute_result",
          "data": {
            "text/plain": [
              "tensor([1., 1., 1., 1.])"
            ]
          },
          "metadata": {},
          "execution_count": 80
        }
      ]
    },
    {
      "cell_type": "code",
      "source": [
        "# 在 y.backward() 时，如果 y 是标量，则不需要为 backward() 传入任何参数；否则，需要传入一个与 y 同形的Tensor。\n",
        "\n",
        "x.grad.zero_()\n",
        "y = x * x\n",
        "y\n",
        "\n",
        "#y.backward(torch.ones(len(x)))\n",
        "#y\n",
        "x.grad\n",
        "\n",
        "y.sum().backward()\n",
        "x.grad"
      ],
      "metadata": {
        "colab": {
          "base_uri": "https://localhost:8080/"
        },
        "id": "IWtw-WJSSZvs",
        "outputId": "d044159a-2578-4806-86e1-dadd52417d12"
      },
      "execution_count": 25,
      "outputs": [
        {
          "output_type": "execute_result",
          "data": {
            "text/plain": [
              "tensor([0., 2., 4., 6.])"
            ]
          },
          "metadata": {},
          "execution_count": 25
        }
      ]
    },
    {
      "cell_type": "code",
      "source": [
        "#把网络中一些参数固定住，这是很有用的功能\n",
        "x.grad.zero_()\n",
        "y = x * x  #tensor([0., 1., 4., 9.], grad_fn=<MulBackward0>)\n",
        "u = y.detach() #tensor([0., 1., 4., 9.]) 防止参数回传\n",
        "z = u * x\n",
        "\n",
        "print(x)\n",
        "print(y)\n",
        "print(u)\n",
        "print(z)\n",
        "\n",
        "#z.backward(torch.ones(len(x)))\n",
        "result = z.sum().backward()\n",
        "print(result)\n",
        "print(z)\n",
        "x.grad == u"
      ],
      "metadata": {
        "colab": {
          "base_uri": "https://localhost:8080/"
        },
        "id": "hujp_Zh4WV5w",
        "outputId": "184153c3-cc6a-4f83-b29b-6dc0f6ba10b6"
      },
      "execution_count": 65,
      "outputs": [
        {
          "output_type": "stream",
          "name": "stdout",
          "text": [
            "tensor([0., 1., 2., 3.], requires_grad=True)\n",
            "tensor([0., 1., 4., 9.], grad_fn=<MulBackward0>)\n",
            "tensor([0., 1., 4., 9.])\n",
            "tensor([ 0.,  1.,  8., 27.], grad_fn=<MulBackward0>)\n",
            "None\n",
            "tensor([ 0.,  1.,  8., 27.], grad_fn=<MulBackward0>)\n"
          ]
        },
        {
          "output_type": "execute_result",
          "data": {
            "text/plain": [
              "tensor([True, True, True, True])"
            ]
          },
          "metadata": {},
          "execution_count": 65
        }
      ]
    },
    {
      "cell_type": "code",
      "source": [
        "x.grad.zero_()\n",
        "y.backward(torch.ones(len(x)))\n",
        "#y.sum().backward()\n",
        "print(y)\n",
        "x.grad == 2 * x"
      ],
      "metadata": {
        "colab": {
          "base_uri": "https://localhost:8080/"
        },
        "id": "HCVIJjyRYSg7",
        "outputId": "62d01c8f-cbc4-4e14-d1b7-0f16b8f3879d"
      },
      "execution_count": 66,
      "outputs": [
        {
          "output_type": "stream",
          "name": "stdout",
          "text": [
            "tensor([0., 1., 4., 9.], grad_fn=<MulBackward0>)\n"
          ]
        },
        {
          "output_type": "execute_result",
          "data": {
            "text/plain": [
              "tensor([True, True, True, True])"
            ]
          },
          "metadata": {},
          "execution_count": 66
        }
      ]
    },
    {
      "cell_type": "code",
      "source": [
        "def f(a):\n",
        "  b = a * 2\n",
        "  while b.norm() < 1000:\n",
        "    b = b * 2\n",
        "  if b.sum() > 0:\n",
        "    c = b\n",
        "  else:\n",
        "    c = 100 * b\n",
        "  return c\n",
        "\n",
        "a = torch.randn(size=(), requires_grad=True)\n",
        "d = f(a)\n",
        "d.backward()\n",
        "print(a)\n",
        "print(d)\n",
        "print(d/a)\n",
        "a.grad == d/a\n",
        "#print(a.grad)"
      ],
      "metadata": {
        "colab": {
          "base_uri": "https://localhost:8080/"
        },
        "id": "uRn2V9QNaGnX",
        "outputId": "3fb630b2-4224-4ec9-f2eb-cbf4fb9acccf"
      },
      "execution_count": 72,
      "outputs": [
        {
          "output_type": "stream",
          "name": "stdout",
          "text": [
            "tensor(1.6760, requires_grad=True)\n",
            "tensor(1716.1744, grad_fn=<MulBackward0>)\n",
            "tensor(1024., grad_fn=<DivBackward0>)\n",
            "tensor(1024.)\n"
          ]
        }
      ]
    }
  ]
}